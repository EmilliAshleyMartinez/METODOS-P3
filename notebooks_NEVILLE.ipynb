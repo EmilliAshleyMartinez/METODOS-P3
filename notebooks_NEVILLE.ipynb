{
  "metadata": {
    "kernelspec": {
      "name": "python",
      "display_name": "Python (Pyodide)",
      "language": "python"
    },
    "language_info": {
      "codemirror_mode": {
        "name": "python",
        "version": 3
      },
      "file_extension": ".py",
      "mimetype": "text/x-python",
      "name": "python",
      "nbconvert_exporter": "python",
      "pygments_lexer": "ipython3",
      "version": "3.8"
    }
  },
  "nbformat_minor": 5,
  "nbformat": 4,
  "cells": [
    {
      "cell_type": "code",
      "source": "from math import *\nimport numpy as np\nimport matplotlib . pyplot as plt\n#MARTINEZ PEREA EMILLI",
      "metadata": {},
      "execution_count": null,
      "outputs": [],
      "id": "7f33dc51-de36-4999-a250-b79ba8760689"
    },
    {
      "cell_type": "code",
      "source": "n=xi.size",
      "metadata": {},
      "execution_count": null,
      "outputs": [],
      "id": "6f020146-2593-4c9b-9bf7-3f90d0876ccb"
    },
    {
      "cell_type": "code",
      "source": "def puntox(x):\n    x=np.array([0,1,2])\n    return x\n\ndef puntoy(x):\n    ynp.array([2.0,2.2,2.3])\n    return f(xi)\n\ndef q(x):\n    qij=np.zeros((n,n))",
      "metadata": {},
      "execution_count": null,
      "outputs": [],
      "id": "f951ce7a-7a85-43fa-b3ad-fac237618505"
    },
    {
      "cell_type": "code",
      "source": "# Ingreso datos de entrada para los diferentes métodos a trabajar\na = 0\nb = 1\n\n# guarda valores iniciales\na0 = a\nb0 = b\n\ntolerancia = 0.001 \nitermax = 15 \nerror = 0\nniter = 0",
      "metadata": {},
      "execution_count": null,
      "outputs": [],
      "id": "8a623b28-2c87-4ec6-bd1b-3938a5993422"
    },
    {
      "cell_type": "code",
      "source": "#iteracion de punto fijo\np=a\n\n#Evaluacion de la función en los puntos a, b y m\nfa = funcion(p)\ngp = funciong(p)\n\nprint(\"# iter\\t\\t p0 \\t\\t g(p0) \\t\\t error \\t\\t error\")\nprint(\"{0} \\t\\t {1:6.4f} \\t {2:6.4f} \\t {3:6.4f} \\t {4:6.4f}\".format(niter, p , gp, fa, error))\n\n# ciclo iterativo\np=funciong(a)\nwhile niter <= itermax:\n    a=gp\n    fp= funciong(a)\n    gp = funciong(a)\n    #fa= funcion(p)\n    error = abs(a-fp)\n    niter += 1\n    print(\"{0} \\t\\t {1:6.6f} \\t {2:6.6f} \\t {3:6.6f} \\t {4:6.6f}\".format(niter, a, fp, error, error ))\n\nprint(\"La raíz de la función dada en el intervalo [{0:6.4f},{1:6.4f}] es {2:6.7f}\".format(a0,b0,gp))\n",
      "metadata": {},
      "execution_count": null,
      "outputs": [],
      "id": "059ca5f1-d68d-4617-b824-405db65f0e46"
    }
  ]
}